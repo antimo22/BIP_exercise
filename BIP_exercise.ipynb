{
  "nbformat": 4,
  "nbformat_minor": 0,
  "metadata": {
    "colab": {
      "name": "BIP_exercise.ipynb",
      "provenance": [],
      "collapsed_sections": []
    },
    "kernelspec": {
      "name": "python3",
      "display_name": "Python 3"
    },
    "language_info": {
      "name": "python"
    }
  },
  "cells": [
    {
      "cell_type": "markdown",
      "source": [
        "# Largest Continuous Subarray"
      ],
      "metadata": {
        "id": "InPVCfF_VSoB"
      }
    },
    {
      "cell_type": "markdown",
      "source": [
        "Write a function that finds the contiguous subarray (containing at least one number) which has the largest sum within an array read in input to the function. The function should return the sub-array and the corresponding sum. Which is the complexity of your solution? Can you do a solution with linear complexity? Write a unit test for the function.\n",
        "\n"
      ],
      "metadata": {
        "id": "zqKV6zrpk9Qv"
      }
    },
    {
      "cell_type": "code",
      "source": [
        "def LargestSubarrayFunction(arr):\n",
        " \n",
        "  max_all = arr[0] - 1    #to store the value of the largest continuous subarray till now\n",
        "  max_current = 0         #to store the current continous subarray sum\n",
        "  id_min = 0              #first index of the subarray \n",
        "  id_max = 0              #last index of the subarray\n",
        "  temp = 0                #temp variable, to update the first index when the cumulative sum becomes less than 0\n",
        "\n",
        "  for i in range(0, len(arr)):\n",
        "\n",
        "      max_current = max_current + arr[i]\n",
        "\n",
        "      if max_all < max_current: #the cumulative sum is greater than the previous max sum -> update the max and save the new indexes\n",
        "          max_all = max_current\n",
        "          id_min = temp\n",
        "          id_max = i\n",
        "\n",
        "      if max_current < 0: #the cumulative sum becomes less than 0 -> reset the cumulative sum, and update the possible successive idx_min\n",
        "          max_current = 0\n",
        "          temp = i+1\n",
        "\n",
        "  print(\"Largest contiguous subarray is {}, with a total of {}\".format([arr[id_min:id_max+1]], max_all))\n",
        "\n",
        "  return arr[id_min:id_max+1], max_all   #return the result"
      ],
      "metadata": {
        "id": "KNn0OYClk91A"
      },
      "execution_count": 41,
      "outputs": []
    },
    {
      "cell_type": "code",
      "source": [
        "# basic tests\n",
        "arr = [-2, -1, 3, -4, 5, -2, 1, 3, -3]\n",
        "arr_2 = [1, 2, 4, 8]\n",
        "\n",
        "LargestSubarrayFunction(arr)\n",
        "LargestSubarrayFunction(arr_2)"
      ],
      "metadata": {
        "colab": {
          "base_uri": "https://localhost:8080/"
        },
        "id": "vd64sejJAnvl",
        "outputId": "7e22f077-ed7c-4576-e634-20d7c13f4fb6"
      },
      "execution_count": 42,
      "outputs": [
        {
          "output_type": "stream",
          "name": "stdout",
          "text": [
            "Largest contiguous subarray is [[5, -2, 1, 3]], with a total of 7\n",
            "Largest contiguous subarray is [[1, 2, 4, 8]], with a total of 15\n"
          ]
        },
        {
          "output_type": "execute_result",
          "data": {
            "text/plain": [
              "([1, 2, 4, 8], 15)"
            ]
          },
          "metadata": {},
          "execution_count": 42
        }
      ]
    },
    {
      "cell_type": "markdown",
      "source": [
        "This solution has a complexity time of O(n), since it analyzes the array only once, progressively adding the numbers if the sum grows, and resetting it if becomes less than 0."
      ],
      "metadata": {
        "id": "dkZuCzZ_C-_z"
      }
    },
    {
      "cell_type": "markdown",
      "source": [
        "## Unit Test\n",
        "Test the function using the unittest library"
      ],
      "metadata": {
        "id": "2r-49IxsVO9T"
      }
    },
    {
      "cell_type": "code",
      "source": [
        "import unittest\n",
        "\n",
        "class Test(unittest.TestCase):\n",
        "  def test_function(self):\n",
        "    self.assertEqual(LargestSubarrayFunction([-2, -1, 3, -4, 5, -2, 1, 3, -3]), ([5, -2, 1, 3], 7))\n",
        "    self.assertEqual(LargestSubarrayFunction([1, 2, 4, 8]), ([1, 2, 4, 8], 15))\n",
        "    self.assertEqual(LargestSubarrayFunction([-1, 2, 4, 8, -1]), ([2, 4, 8], 14))\n",
        "\n",
        "unittest.main(argv=[''], verbosity=2, exit=False)"
      ],
      "metadata": {
        "colab": {
          "base_uri": "https://localhost:8080/"
        },
        "id": "irrLNoKCVQJ0",
        "outputId": "6c154ab0-c3dc-4012-e38d-a46c2f3ed6b4"
      },
      "execution_count": 43,
      "outputs": [
        {
          "output_type": "stream",
          "name": "stderr",
          "text": [
            "test_function (__main__.Test) ... "
          ]
        },
        {
          "output_type": "stream",
          "name": "stdout",
          "text": [
            "Largest contiguous subarray is [[5, -2, 1, 3]], with a total of 7\n",
            "Largest contiguous subarray is [[1, 2, 4, 8]], with a total of 15\n",
            "Largest contiguous subarray is [[2, 4, 8]], with a total of 14\n"
          ]
        },
        {
          "output_type": "stream",
          "name": "stderr",
          "text": [
            "ok\n",
            "\n",
            "----------------------------------------------------------------------\n",
            "Ran 1 test in 0.005s\n",
            "\n",
            "OK\n"
          ]
        },
        {
          "output_type": "execute_result",
          "data": {
            "text/plain": [
              "<unittest.main.TestProgram at 0x7fef8b966990>"
            ]
          },
          "metadata": {},
          "execution_count": 43
        }
      ]
    }
  ]
}